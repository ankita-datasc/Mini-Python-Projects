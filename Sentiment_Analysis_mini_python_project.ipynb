{
  "nbformat": 4,
  "nbformat_minor": 0,
  "metadata": {
    "colab": {
      "provenance": []
    },
    "kernelspec": {
      "name": "python3",
      "display_name": "Python 3"
    },
    "language_info": {
      "name": "python"
    }
  },
  "cells": [
    {
      "cell_type": "code",
      "execution_count": 1,
      "metadata": {
        "colab": {
          "base_uri": "https://localhost:8080/"
        },
        "id": "8IeZld2XKmxo",
        "outputId": "708cf8f6-c927-4d75-e0e2-9b9d3df0a281"
      },
      "outputs": [
        {
          "output_type": "stream",
          "name": "stdout",
          "text": [
            "Sentiment Analysis on Movie Reviews\n",
            "\n",
            "Enter your movie review: The movie was atreat to eyes, novel story and excellent execution.\n",
            "\n",
            "Result:\n",
            "Review: The movie was atreat to eyes, novel story and excellent execution.\n",
            "Sentiment: Positive (Score: 1.0)\n"
          ]
        }
      ],
      "source": [
        "from textblob import TextBlob\n",
        "\n",
        "class MovieReview:\n",
        "    def __init__(self, review_text):\n",
        "        \"\"\"\n",
        "        Initialize with the movie review text.\n",
        "        Args:\n",
        "            review_text (str): The text of the movie review.\n",
        "        \"\"\"\n",
        "        self.review_text = review_text\n",
        "        self.sentiment = self.analyze_sentiment()\n",
        "\n",
        "    def analyze_sentiment(self):\n",
        "        \"\"\"\n",
        "        Analyze the sentiment of the review.\n",
        "        Returns:\n",
        "            str: Sentiment of the review ('Positive', 'Negative', 'Neutral').\n",
        "            float: Sentiment polarity score (between -1 and 1).\n",
        "        \"\"\"\n",
        "        blob = TextBlob(self.review_text)\n",
        "        polarity = blob.sentiment.polarity  # Polarity score: ranges from -1 (negative) to 1 (positive)\n",
        "\n",
        "        if polarity > 0:\n",
        "            return 'Positive', polarity\n",
        "        elif polarity < 0:\n",
        "            return 'Negative', polarity\n",
        "        else:\n",
        "            return 'Neutral', polarity\n",
        "\n",
        "    def __str__(self):\n",
        "        \"\"\"\n",
        "        Return a readable representation of the review sentiment.\n",
        "        \"\"\"\n",
        "        sentiment, score = self.sentiment\n",
        "        return f\"Review: {self.review_text}\\nSentiment: {sentiment} (Score: {score})\"\n",
        "\n",
        "# Example Usage\n",
        "\n",
        "def main():\n",
        "    print(\"Sentiment Analysis on Movie Reviews\\n\")\n",
        "\n",
        "    review_text = input(\"Enter your movie review: \")\n",
        "    review = MovieReview(review_text)\n",
        "\n",
        "    # Output the result\n",
        "    print(\"\\nResult:\")\n",
        "    print(review)\n",
        "\n",
        "if __name__ == \"__main__\":\n",
        "    main()"
      ]
    }
  ]
}