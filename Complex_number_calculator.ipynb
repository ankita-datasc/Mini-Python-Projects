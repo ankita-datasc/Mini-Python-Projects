{
  "nbformat": 4,
  "nbformat_minor": 0,
  "metadata": {
    "colab": {
      "provenance": []
    },
    "kernelspec": {
      "name": "python3",
      "display_name": "Python 3"
    },
    "language_info": {
      "name": "python"
    }
  },
  "cells": [
    {
      "cell_type": "code",
      "execution_count": null,
      "metadata": {
        "id": "Wnf04JjoMER0"
      },
      "outputs": [],
      "source": []
    },
    {
      "cell_type": "code",
      "source": [
        "### Complex Number Calculator\n",
        "\n",
        "class ComplexNumber:\n",
        "    # Parameterized constructor\n",
        "    def __init__(self, real, imaginary):\n",
        "        self.real = real\n",
        "        self.imaginary = imaginary\n",
        "\n",
        "    def __str__(self):\n",
        "        # Representation in \"a + bi\" form\n",
        "        #whenever you print an object of the class __str__ method will be executed\n",
        "        return f\"{self.real} {'+' if self.imaginary >= 0 else '-'} {abs(self.imaginary)}i\"\n",
        "\n",
        "    def __add__(self, other):\n",
        "        # Adding two complex numbers\n",
        "        new_real = self.real + other.real\n",
        "        new_imaginary = self.imaginary + other.imaginary\n",
        "        return ComplexNumber(new_real, new_imaginary)\n",
        "\n",
        "    def __sub__(self, other):\n",
        "        # Subtracting two complex numbers\n",
        "        new_real = self.real - other.real\n",
        "        new_imaginary = self.imaginary - other.imaginary\n",
        "        return ComplexNumber(new_real, new_imaginary)\n",
        "\n",
        "    def __mul__(self, other):\n",
        "        # Multiplying two complex numbers\n",
        "        new_real = self.real * other.real - self.imaginary * other.imaginary\n",
        "        new_imaginary = self.real * other.imaginary + self.imaginary * other.real\n",
        "        return ComplexNumber(new_real, new_imaginary)\n",
        "\n",
        "    def __truediv__(self, other):\n",
        "        # Dividing two complex numbers\n",
        "        denom = other.real ** 2 + other.imaginary ** 2\n",
        "        new_real = (self.real * other.real + self.imaginary * other.imaginary) / denom\n",
        "        new_imaginary = (self.imaginary * other.real - self.real * other.imaginary) / denom\n",
        "        return ComplexNumber(new_real, new_imaginary)\n",
        "\n",
        "    def magnitude(self):\n",
        "        # Magnitude of the complex number\n",
        "        return (self.real ** 2 + self.imaginary ** 2) ** 0.5\n",
        "\n",
        "\n",
        "# Example Usage\n",
        "c1 = ComplexNumber(3, 4)\n",
        "c2 = ComplexNumber(1, -2)\n",
        "\n",
        "print(\"c1:\", c1)  # 3 + 4i\n",
        "print(\"c2:\", c2)  # 1 - 2i\n",
        "\n",
        "# Addition\n",
        "print(\"c1 + c2:\", c1 + c2)  # 4 + 2i\n",
        "\n",
        "# Subtraction\n",
        "print(\"c1 - c2:\", c1 - c2)  # 2 + 6i\n",
        "\n",
        "# Multiplication\n",
        "print(\"c1 * c2:\", c1 * c2)  # 11 - 2i\n",
        "\n",
        "# Division\n",
        "print(\"c1 / c2:\", c1 / c2)  # -1.0 + 2.0i\n",
        "\n",
        "# Magnitude\n",
        "print(\"Magnitude of c1:\", c1.magnitude())  # 5.0"
      ],
      "metadata": {
        "id": "cikKGEgFxsGn",
        "colab": {
          "base_uri": "https://localhost:8080/"
        },
        "outputId": "e38276cb-a1cf-4b94-ab85-f638acc7f0e2"
      },
      "execution_count": 1,
      "outputs": [
        {
          "output_type": "stream",
          "name": "stdout",
          "text": [
            "c1: 3 + 4i\n",
            "c2: 1 - 2i\n",
            "c1 + c2: 4 + 2i\n",
            "c1 - c2: 2 + 6i\n",
            "c1 * c2: 11 - 2i\n",
            "c1 / c2: -1.0 + 2.0i\n",
            "Magnitude of c1: 5.0\n"
          ]
        }
      ]
    }
  ]
}